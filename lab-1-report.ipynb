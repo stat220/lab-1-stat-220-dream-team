{
 "cells": [
  {
   "cell_type": "code",
   "outputs": [],
   "source": [
    "import pandas as pd\n",
    "import numpy as np\n",
    "import matplotlib.pyplot as plt\n",
    "import matplotlib.ticker as ticker"
   ],
   "metadata": {
    "collapsed": false,
    "ExecuteTime": {
     "end_time": "2024-09-16T22:53:08.911164Z",
     "start_time": "2024-09-16T22:53:05.423187Z"
    }
   },
   "id": "750c7047f0e6693e",
   "execution_count": 1
  },
  {
   "cell_type": "code",
   "outputs": [
    {
     "data": {
      "text/plain": "     ...1  work_year experience_level employment_type  \\\n0       0       2020               MI              FT   \n1       1       2020               SE              FT   \n2       2       2020               SE              FT   \n3       3       2020               MI              FT   \n4       4       2020               SE              FT   \n..    ...        ...              ...             ...   \n576   602       2022               SE              FT   \n577   603       2022               SE              FT   \n578   604       2022               SE              FT   \n579   605       2022               SE              FT   \n580   606       2022               MI              FT   \n\n                      job_title  salary salary_currency  salary_in_usd  \\\n0                Data Scientist   70000             EUR          79833   \n1    Machine Learning Scientist  260000             USD         260000   \n2             Big Data Engineer   85000             GBP         109024   \n3          Product Data Analyst   20000             USD          20000   \n4     Machine Learning Engineer  150000             USD         150000   \n..                          ...     ...             ...            ...   \n576               Data Engineer  154000             USD         154000   \n577               Data Engineer  126000             USD         126000   \n578                Data Analyst  129000             USD         129000   \n579                Data Analyst  150000             USD         150000   \n580                AI Scientist  200000             USD         200000   \n\n    employee_residence  remote_ratio company_location company_size  \n0                   DE             0               DE            L  \n1                   JP             0               JP            S  \n2                   GB            50               GB            M  \n3                   HN             0               HN            S  \n4                   US            50               US            L  \n..                 ...           ...              ...          ...  \n576                 US           100               US            M  \n577                 US           100               US            M  \n578                 US             0               US            M  \n579                 US           100               US            M  \n580                 IN           100               US            L  \n\n[581 rows x 12 columns]",
      "text/html": "<div>\n<style scoped>\n    .dataframe tbody tr th:only-of-type {\n        vertical-align: middle;\n    }\n\n    .dataframe tbody tr th {\n        vertical-align: top;\n    }\n\n    .dataframe thead th {\n        text-align: right;\n    }\n</style>\n<table border=\"1\" class=\"dataframe\">\n  <thead>\n    <tr style=\"text-align: right;\">\n      <th></th>\n      <th>...1</th>\n      <th>work_year</th>\n      <th>experience_level</th>\n      <th>employment_type</th>\n      <th>job_title</th>\n      <th>salary</th>\n      <th>salary_currency</th>\n      <th>salary_in_usd</th>\n      <th>employee_residence</th>\n      <th>remote_ratio</th>\n      <th>company_location</th>\n      <th>company_size</th>\n    </tr>\n  </thead>\n  <tbody>\n    <tr>\n      <th>0</th>\n      <td>0</td>\n      <td>2020</td>\n      <td>MI</td>\n      <td>FT</td>\n      <td>Data Scientist</td>\n      <td>70000</td>\n      <td>EUR</td>\n      <td>79833</td>\n      <td>DE</td>\n      <td>0</td>\n      <td>DE</td>\n      <td>L</td>\n    </tr>\n    <tr>\n      <th>1</th>\n      <td>1</td>\n      <td>2020</td>\n      <td>SE</td>\n      <td>FT</td>\n      <td>Machine Learning Scientist</td>\n      <td>260000</td>\n      <td>USD</td>\n      <td>260000</td>\n      <td>JP</td>\n      <td>0</td>\n      <td>JP</td>\n      <td>S</td>\n    </tr>\n    <tr>\n      <th>2</th>\n      <td>2</td>\n      <td>2020</td>\n      <td>SE</td>\n      <td>FT</td>\n      <td>Big Data Engineer</td>\n      <td>85000</td>\n      <td>GBP</td>\n      <td>109024</td>\n      <td>GB</td>\n      <td>50</td>\n      <td>GB</td>\n      <td>M</td>\n    </tr>\n    <tr>\n      <th>3</th>\n      <td>3</td>\n      <td>2020</td>\n      <td>MI</td>\n      <td>FT</td>\n      <td>Product Data Analyst</td>\n      <td>20000</td>\n      <td>USD</td>\n      <td>20000</td>\n      <td>HN</td>\n      <td>0</td>\n      <td>HN</td>\n      <td>S</td>\n    </tr>\n    <tr>\n      <th>4</th>\n      <td>4</td>\n      <td>2020</td>\n      <td>SE</td>\n      <td>FT</td>\n      <td>Machine Learning Engineer</td>\n      <td>150000</td>\n      <td>USD</td>\n      <td>150000</td>\n      <td>US</td>\n      <td>50</td>\n      <td>US</td>\n      <td>L</td>\n    </tr>\n    <tr>\n      <th>...</th>\n      <td>...</td>\n      <td>...</td>\n      <td>...</td>\n      <td>...</td>\n      <td>...</td>\n      <td>...</td>\n      <td>...</td>\n      <td>...</td>\n      <td>...</td>\n      <td>...</td>\n      <td>...</td>\n      <td>...</td>\n    </tr>\n    <tr>\n      <th>576</th>\n      <td>602</td>\n      <td>2022</td>\n      <td>SE</td>\n      <td>FT</td>\n      <td>Data Engineer</td>\n      <td>154000</td>\n      <td>USD</td>\n      <td>154000</td>\n      <td>US</td>\n      <td>100</td>\n      <td>US</td>\n      <td>M</td>\n    </tr>\n    <tr>\n      <th>577</th>\n      <td>603</td>\n      <td>2022</td>\n      <td>SE</td>\n      <td>FT</td>\n      <td>Data Engineer</td>\n      <td>126000</td>\n      <td>USD</td>\n      <td>126000</td>\n      <td>US</td>\n      <td>100</td>\n      <td>US</td>\n      <td>M</td>\n    </tr>\n    <tr>\n      <th>578</th>\n      <td>604</td>\n      <td>2022</td>\n      <td>SE</td>\n      <td>FT</td>\n      <td>Data Analyst</td>\n      <td>129000</td>\n      <td>USD</td>\n      <td>129000</td>\n      <td>US</td>\n      <td>0</td>\n      <td>US</td>\n      <td>M</td>\n    </tr>\n    <tr>\n      <th>579</th>\n      <td>605</td>\n      <td>2022</td>\n      <td>SE</td>\n      <td>FT</td>\n      <td>Data Analyst</td>\n      <td>150000</td>\n      <td>USD</td>\n      <td>150000</td>\n      <td>US</td>\n      <td>100</td>\n      <td>US</td>\n      <td>M</td>\n    </tr>\n    <tr>\n      <th>580</th>\n      <td>606</td>\n      <td>2022</td>\n      <td>MI</td>\n      <td>FT</td>\n      <td>AI Scientist</td>\n      <td>200000</td>\n      <td>USD</td>\n      <td>200000</td>\n      <td>IN</td>\n      <td>100</td>\n      <td>US</td>\n      <td>L</td>\n    </tr>\n  </tbody>\n</table>\n<p>581 rows × 12 columns</p>\n</div>"
     },
     "execution_count": 2,
     "metadata": {},
     "output_type": "execute_result"
    }
   ],
   "source": [
    "salary: pd.DataFrame = pd.read_csv('https://richardson.byu.edu/220/ds_salary.csv')\n",
    "salary"
   ],
   "metadata": {
    "collapsed": false,
    "ExecuteTime": {
     "end_time": "2024-09-16T22:53:09.452524Z",
     "start_time": "2024-09-16T22:53:08.920894Z"
    }
   },
   "id": "728a2b7eacb39ff7",
   "execution_count": 2
  },
  {
   "cell_type": "markdown",
   "source": [
    "## General Salary Data\n",
    "Start by plotting and describing the general shape of the salary data. This initial step sets the foundation for your analysis."
   ],
   "metadata": {
    "collapsed": false
   },
   "id": "927cda6336d3a270"
  },
  {
   "cell_type": "code",
   "outputs": [
    {
     "data": {
      "text/plain": "<Figure size 640x480 with 1 Axes>",
      "image/png": "[encoded data removed]"
     },
     "metadata": {},
     "output_type": "display_data"
    }
   ],
   "source": [
    "salary['salary_in_usd'].hist()\n",
    "plt.title('Salary Distribution')\n",
    "plt.xlabel('Salary (in USD)')\n",
    "plt.ylabel('Number of Employees')\n",
    "plt.show()"
   ],
   "metadata": {
    "collapsed": false,
    "ExecuteTime": {
     "end_time": "2024-09-16T22:53:10.417978Z",
     "start_time": "2024-09-16T22:53:09.459110Z"
    }
   },
   "id": "e0a26a0774a586e4",
   "execution_count": 3
  },
  {
   "cell_type": "markdown",
   "source": [
    "We plotted the salary against the number of employees in a histogram.\n",
    "Since we're not comparing the salary to any other variable yet,\n",
    "a histogram made the most sense.\n",
    "\n",
    "This gives us a sense that salaries for data scientists are generally right-skewed."
   ],
   "metadata": {
    "collapsed": false
   },
   "id": "7817789a9d713f7f"
  },
  {
   "cell_type": "markdown",
   "source": [
    "## Effect of Experience on Salary\n",
    "\n",
    "Investigate how experience influences data scientist salaries. Create visualizations or tables to illustrate any trends or patterns."
   ],
   "metadata": {
    "collapsed": false
   },
   "id": "f83f077a20bafe4d"
  },
  {
   "cell_type": "code",
   "outputs": [
    {
     "data": {
      "text/plain": "<Figure size 640x480 with 4 Axes>",
      "image/png": "[encoded data removed]"
     },
     "metadata": {},
     "output_type": "display_data"
    }
   ],
   "source": [
    "fig, axs = plt.subplots(4,1, sharex=True)\n",
    "fig.suptitle('Salaries by Experience Level')\n",
    "\n",
    "for ax, experience in zip(axs, ('EN', 'MI', 'SE', 'EX')):\n",
    "    ax.boxplot(salary[salary['experience_level'] == experience]['salary_in_usd'], vert=False)\n",
    "    ax.set_ylabel(experience)\n",
    "    ax.set_yticks([])\n",
    "\n",
    "# EN Entry-level\n",
    "# Junior MI Mid-level\n",
    "# Intermediate SE Senior-level\n",
    "# Expert EX Executive-level"
   ],
   "metadata": {
    "collapsed": false,
    "ExecuteTime": {
     "end_time": "2024-09-16T22:53:12.357147Z",
     "start_time": "2024-09-16T22:53:10.434326Z"
    }
   },
   "id": "c71c843b0f681157",
   "execution_count": 4
  },
  {
   "cell_type": "markdown",
   "source": [
    "These box plots show that there's a positive correlation between salary and experience level.\n",
    "\n",
    "For all experience levels, all—except the minimum—of the five-number summary increases exponentially.\n",
    "Also, the highest outlying salary for each experience level is about double the highest salary.\n",
    "\n",
    "For all experience levels other than expert:\n",
    "* The minimum salary is about the same\n",
    "* The inter-quartile range is about the same\n",
    "\n",
    "For the expert experience level, the inter-quartile range is significantly larger.\n"
   ],
   "metadata": {
    "collapsed": false
   },
   "id": "5e4187fc324b5e71"
  },
  {
   "cell_type": "code",
   "outputs": [],
   "source": [
    "fig, axs = plt.subplots(1,4, sharey=True, sharex=True, figsize=(10,6))\n",
    "fig.suptitle('Number of Employees with Each Salary by Experience Level')\n",
    "\n",
    "for ax, experience in zip(axs, ('EN', 'MI', 'SE', 'EX')):\n",
    "    ax.hist(salary[salary['experience_level'] == experience]['salary_in_usd'])\n",
    "    ax.set_xlabel(experience)\n",
    "    ax.xaxis.set_major_formatter(ticker.EngFormatter())"
   ],
   "metadata": {
    "collapsed": false,
    "is_executing": true,
    "ExecuteTime": {
     "start_time": "2024-09-16T22:53:12.359155Z"
    }
   },
   "id": "25625d0f1def7ad4",
   "execution_count": null
  },
  {
   "cell_type": "markdown",
   "source": [
    "Graphing the data into a series of histograms shows that the salaries are still skewed-right.\n",
    "Most of the collected data is focused on data scientists with middle or senior experience.\n",
    "These graphs confirms that the salaries are closely clustered for the vast majority of data scientists with the same level of experience (except for expert level data scientists, which have a larger range and inter-quartile range)."
   ],
   "metadata": {
    "collapsed": false
   },
   "id": "b3f8a67895fc6e7e"
  },
  {
   "cell_type": "markdown",
   "source": [
    "## Impact of Company Size on Salary\n",
    "\n",
    "Explore how company size affects data scientist salaries. Generate plots or tables to visualize this relationship."
   ],
   "metadata": {
    "collapsed": false
   },
   "id": "860b357778ae4698"
  },
  {
   "cell_type": "code",
   "outputs": [],
   "source": [
    "fig, axs = plt.subplots(3,1, sharex=True)\n",
    "fig.suptitle('Salaries by Company Size')\n",
    "\n",
    "for ax, company_size, label in zip(axs, ('S', 'M', 'L'), ('Small', 'Medium', 'Large')):\n",
    "    ax.boxplot(salary[salary['company_size'] == company_size]['salary_in_usd'], vert=False)\n",
    "    ax.set_ylabel(label)\n",
    "    ax.set_yticks([])"
   ],
   "metadata": {
    "collapsed": false,
    "is_executing": true
   },
   "id": "9c9e8aa143a0237a",
   "execution_count": null
  },
  {
   "cell_type": "code",
   "outputs": [],
   "source": [
    "fig, axs = plt.subplots(1,3, sharey=True, sharex=True, figsize=(8,6))\n",
    "fig.suptitle('Number of Employees with Each Salary by Company Size')\n",
    "\n",
    "for ax, company_size, label in zip(axs, ('S', 'M', 'L'), ('Small', 'Medium', 'Large')):\n",
    "    ax.hist(salary[salary['company_size'] == company_size]['salary_in_usd'])\n",
    "    ax.set_xlabel(company_size)\n",
    "    ax.xaxis.set_major_formatter(ticker.EngFormatter())"
   ],
   "metadata": {
    "collapsed": false,
    "is_executing": true
   },
   "id": "2d3fd75da4e4f8b",
   "execution_count": null
  },
  {
   "cell_type": "code",
   "outputs": [],
   "source": [
    "## 4. Job Title Analysis"
   ],
   "metadata": {
    "collapsed": false,
    "is_executing": true
   },
   "id": "edf77d492ff7ad71",
   "execution_count": null
  },
  {
   "cell_type": "code",
   "outputs": [],
   "source": [
    "df = pd.read_csv('https://richardson.byu.edu/220/ds_salary.csv')\n",
    "df.head()"
   ],
   "metadata": {
    "collapsed": false,
    "is_executing": true
   },
   "id": "31560937a8571ac2",
   "execution_count": null
  },
  {
   "cell_type": "code",
   "outputs": [],
   "source": [
    "df[\"job_title\"].value_counts()"
   ],
   "metadata": {
    "collapsed": false,
    "is_executing": true
   },
   "id": "9c92a0cb03573c28",
   "execution_count": null
  },
  {
   "cell_type": "code",
   "outputs": [],
   "source": [
    "analysts = df[df['job_title'].str.contains(\"Analyst|Analytics\")]\n",
    "analysts = analysts[analysts['job_title'].str.contains(\"Lead|Manager|Director|Head\") == False]\n",
    "analysts['job_title'].value_counts()"
   ],
   "metadata": {
    "collapsed": false,
    "is_executing": true
   },
   "id": "1fbdc7e1970f47ef",
   "execution_count": null
  },
  {
   "cell_type": "code",
   "outputs": [],
   "source": [
    "engineers = df[df['job_title'].str.contains(\"Engineer\")]\n",
    "engineers = engineers[engineers['job_title'].str.contains(\"Lead|Manager|Director|Head|Principal\") == False]\n",
    "engineers['job_title'].value_counts()"
   ],
   "metadata": {
    "collapsed": false,
    "is_executing": true
   },
   "id": "64c615a224ae0cb7",
   "execution_count": null
  },
  {
   "cell_type": "code",
   "outputs": [],
   "source": [
    "scientists = df[df['job_title'].str.contains(\"Scientist|Science\")]\n",
    "scientists = scientists[scientists['job_title'].str.contains(\"Lead|Manager|Director|Head|Engineer\") == False]\n",
    "scientists['job_title'].value_counts()"
   ],
   "metadata": {
    "collapsed": false,
    "is_executing": true
   },
   "id": "e1925100c47fb5af",
   "execution_count": null
  },
  {
   "cell_type": "code",
   "outputs": [],
   "source": [
    "leaders = df[df['job_title'].str.contains(\"Lead|Manager|Director|Head|Principal\")]\n",
    "leaders['job_title'].value_counts()"
   ],
   "metadata": {
    "collapsed": false,
    "is_executing": true
   },
   "id": "b5115fbafeca9fd4",
   "execution_count": null
  },
  {
   "cell_type": "code",
   "outputs": [],
   "source": [
    "plt.xticks(rotation=90)\n",
    "plt.xlabel('job title')\n",
    "plt.ylabel('salary')\n",
    "plt.title('Salary by Job Title for Leaders in Industry')\n",
    "plt.bar(leaders['job_title'], leaders['salary_in_usd'])"
   ],
   "metadata": {
    "collapsed": false,
    "is_executing": true
   },
   "id": "229259dcafeb5395",
   "execution_count": null
  },
  {
   "cell_type": "code",
   "outputs": [],
   "source": [
    "plt.xticks(rotation=90)\n",
    "plt.xlabel('job title')\n",
    "plt.ylabel('salary')\n",
    "plt.title('Salary by Job Title for Engineers in Industry')\n",
    "plt.bar(engineers['job_title'], engineers['salary_in_usd'])"
   ],
   "metadata": {
    "collapsed": false,
    "is_executing": true
   },
   "id": "b0b276160f60fa74",
   "execution_count": null
  },
  {
   "cell_type": "code",
   "outputs": [],
   "source": [
    "plt.xticks(rotation=90)\n",
    "plt.xlabel('job title')\n",
    "plt.ylabel('salary')\n",
    "plt.title('Salary by Job Title for Analysts in Industry')\n",
    "plt.bar(analysts['job_title'], analysts['salary_in_usd'])"
   ],
   "metadata": {
    "collapsed": false,
    "is_executing": true
   },
   "id": "690947406654da50",
   "execution_count": null
  },
  {
   "cell_type": "code",
   "outputs": [],
   "source": [
    "plt.xticks(rotation=90)\n",
    "plt.xlabel('job title')\n",
    "plt.ylabel('salary')\n",
    "plt.title('Salary by Job Title for Analysts in Industry')\n",
    "plt.bar(scientists['job_title'], scientists['salary_in_usd'])"
   ],
   "metadata": {
    "collapsed": false,
    "is_executing": true
   },
   "id": "bd1b85ae05f7af2b",
   "execution_count": null
  }
 ],
 "metadata": {
  "kernelspec": {
   "display_name": "Python 3",
   "language": "python",
   "name": "python3"
  },
  "language_info": {
   "codemirror_mode": {
    "name": "ipython",
    "version": 2
   },
   "file_extension": ".py",
   "mimetype": "text/x-python",
   "name": "python",
   "nbconvert_exporter": "python",
   "pygments_lexer": "ipython2",
   "version": "2.7.6"
  }
 },
 "nbformat": 4,
 "nbformat_minor": 5
}
